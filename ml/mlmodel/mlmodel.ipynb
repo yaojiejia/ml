{
 "cells": [
  {
   "cell_type": "code",
   "execution_count": 1,
   "id": "485057cb-819c-49aa-bf62-4b5c5c37f8e0",
   "metadata": {},
   "outputs": [
    {
     "name": "stderr",
     "output_type": "stream",
     "text": [
      "2024-02-17 18:18:35.934109: I tensorflow/core/util/port.cc:113] oneDNN custom operations are on. You may see slightly different numerical results due to floating-point round-off errors from different computation orders. To turn them off, set the environment variable `TF_ENABLE_ONEDNN_OPTS=0`.\n",
      "2024-02-17 18:18:35.959100: E external/local_xla/xla/stream_executor/cuda/cuda_dnn.cc:9261] Unable to register cuDNN factory: Attempting to register factory for plugin cuDNN when one has already been registered\n",
      "2024-02-17 18:18:35.959120: E external/local_xla/xla/stream_executor/cuda/cuda_fft.cc:607] Unable to register cuFFT factory: Attempting to register factory for plugin cuFFT when one has already been registered\n",
      "2024-02-17 18:18:35.959803: E external/local_xla/xla/stream_executor/cuda/cuda_blas.cc:1515] Unable to register cuBLAS factory: Attempting to register factory for plugin cuBLAS when one has already been registered\n",
      "2024-02-17 18:18:35.963827: I tensorflow/core/platform/cpu_feature_guard.cc:182] This TensorFlow binary is optimized to use available CPU instructions in performance-critical operations.\n",
      "To enable the following instructions: AVX2 AVX_VNNI FMA, in other operations, rebuild TensorFlow with the appropriate compiler flags.\n",
      "2024-02-17 18:18:36.565374: W tensorflow/compiler/tf2tensorrt/utils/py_utils.cc:38] TF-TRT Warning: Could not find TensorRT\n"
     ]
    }
   ],
   "source": [
    "import numpy as np\n",
    "import pandas as pd\n",
    "import matplotlib.pyplot as plt\n",
    "import re\n",
    "import os\n",
    "import random\n",
    "from PIL import Image\n",
    "import tensorflow as tf\n",
    "from tensorflow.keras.preprocessing.image import ImageDataGenerator,load_img, img_to_array\n",
    "from sklearn.metrics import accuracy_score, confusion_matrix, ConfusionMatrixDisplay"
   ]
  },
  {
   "cell_type": "code",
   "execution_count": 2,
   "id": "f2134210-9120-4e60-8966-3df703cc9e4a",
   "metadata": {},
   "outputs": [
    {
     "name": "stdout",
     "output_type": "stream",
     "text": [
      "Found 1768 training, 328 validation and 328 samples.\n"
     ]
    }
   ],
   "source": [
    "# Add class name prefix to each path based on class name include in filename\n",
    "def add_class_name_prefix(df, col_name):\n",
    "    df[col_name] = df[col_name].apply(lambda x: x[:re.search(\"\\d\",x).start()] + '/' + x)\n",
    "    return df\n",
    "\n",
    "\n",
    "def class_id_to_label(id):\n",
    "    label_map = {1: 'glass', 2: 'paper', 3: 'cardboard', 4: 'plastic', 5: 'metal', 6: 'trash'}\n",
    "    return label_map[id]\n",
    "    \n",
    "\n",
    "IMAGES_DIR = '/home/alex/Documents/HackTCNJ/HackTCNJ/dataset/garbage classification/Garbage classification'\n",
    "    \n",
    "train_file = '/home/alex/Documents/HackTCNJ/HackTCNJ/dataset/one-indexed-files-notrash_train.txt'\n",
    "val_file   = '/home/alex/Documents/HackTCNJ/HackTCNJ/dataset/one-indexed-files-notrash_val.txt'\n",
    "test_file  = '/home/alex/Documents/HackTCNJ/HackTCNJ/dataset/one-indexed-files-notrash_test.txt'\n",
    "\n",
    "df_train = pd.read_csv(train_file, sep=' ', header=None, names=['path', 'label'])\n",
    "df_valid = pd.read_csv(val_file,   sep=' ', header=None, names=['path', 'label'])\n",
    "df_test  = pd.read_csv(val_file,   sep=' ', header=None, names=['path', 'label'])\n",
    "\n",
    "df_train = add_class_name_prefix(df_train, 'path')\n",
    "df_valid = add_class_name_prefix(df_valid, 'path')\n",
    "df_test  = add_class_name_prefix(df_test,  'path')\n",
    "\n",
    "df_train['label'] = df_train['label'].apply(class_id_to_label)\n",
    "df_valid['label'] = df_valid['label'].apply(class_id_to_label)\n",
    "df_test['label']  = df_test['label'].apply(class_id_to_label)\n",
    "\n",
    "print(f'Found {len(df_train)} training, {len(df_valid)} validation and {len(df_test)} samples.')"
   ]
  },
  {
   "cell_type": "code",
   "execution_count": 3,
   "id": "3aabd9dd-95c5-44ec-893e-a9587fe719e7",
   "metadata": {},
   "outputs": [
    {
     "name": "stdout",
     "output_type": "stream",
     "text": [
      "Found 1768 validated image filenames belonging to 6 classes.\n",
      "Found 328 validated image filenames belonging to 6 classes.\n",
      "Found 328 validated image filenames belonging to 6 classes.\n"
     ]
    }
   ],
   "source": [
    "gen = ImageDataGenerator(rescale=1./255)    # rescaling the images between 0 and 1\n",
    "\n",
    "gen_train = gen.flow_from_dataframe(\n",
    "    dataframe=df_train,\n",
    "    directory=IMAGES_DIR,\n",
    "    x_col='path',\n",
    "    y_col='label',\n",
    "    color_mode=\"rgb\",\n",
    "    class_mode=\"categorical\",\n",
    "    batch_size=32,\n",
    "    shuffle=True\n",
    ")\n",
    "\n",
    "gen_valid = gen.flow_from_dataframe(\n",
    "    dataframe=df_valid,\n",
    "    directory=IMAGES_DIR,\n",
    "    x_col='path',\n",
    "    y_col='label',\n",
    "    color_mode=\"rgb\",\n",
    "    class_mode=\"categorical\",\n",
    "    batch_size=32,\n",
    "    shuffle=True\n",
    ")\n",
    "\n",
    "test_gen = gen.flow_from_dataframe(\n",
    "    dataframe=df_test,\n",
    "    directory=IMAGES_DIR,\n",
    "    x_col='path',\n",
    "    y_col='label',\n",
    "    color_mode=\"rgb\",\n",
    "    class_mode=\"categorical\",\n",
    "    batch_size=32,\n",
    "    shuffle=False\n",
    ")"
   ]
  },
  {
   "cell_type": "code",
   "execution_count": 4,
   "id": "3feeeb27-5d47-4f04-a065-b6287c587a66",
   "metadata": {},
   "outputs": [
    {
     "name": "stdout",
     "output_type": "stream",
     "text": [
      "Model: \"model\"\n",
      "_________________________________________________________________\n",
      " Layer (type)                Output Shape              Param #   \n",
      "=================================================================\n",
      " input_1 (InputLayer)        [(None, None, None, 3)]   0         \n",
      "                                                                 \n",
      " block1_conv1 (Conv2D)       (None, None, None, 64)    1792      \n",
      "                                                                 \n",
      " block1_conv2 (Conv2D)       (None, None, None, 64)    36928     \n",
      "                                                                 \n",
      " block1_pool (MaxPooling2D)  (None, None, None, 64)    0         \n",
      "                                                                 \n",
      " block2_conv1 (Conv2D)       (None, None, None, 128)   73856     \n",
      "                                                                 \n",
      " block2_conv2 (Conv2D)       (None, None, None, 128)   147584    \n",
      "                                                                 \n",
      " block2_pool (MaxPooling2D)  (None, None, None, 128)   0         \n",
      "                                                                 \n",
      " block3_conv1 (Conv2D)       (None, None, None, 256)   295168    \n",
      "                                                                 \n",
      " block3_conv2 (Conv2D)       (None, None, None, 256)   590080    \n",
      "                                                                 \n",
      " block3_conv3 (Conv2D)       (None, None, None, 256)   590080    \n",
      "                                                                 \n",
      " block3_pool (MaxPooling2D)  (None, None, None, 256)   0         \n",
      "                                                                 \n",
      " block4_conv1 (Conv2D)       (None, None, None, 512)   1180160   \n",
      "                                                                 \n",
      " block4_conv2 (Conv2D)       (None, None, None, 512)   2359808   \n",
      "                                                                 \n",
      " block4_conv3 (Conv2D)       (None, None, None, 512)   2359808   \n",
      "                                                                 \n",
      " block4_pool (MaxPooling2D)  (None, None, None, 512)   0         \n",
      "                                                                 \n",
      " block5_conv1 (Conv2D)       (None, None, None, 512)   2359808   \n",
      "                                                                 \n",
      " block5_conv2 (Conv2D)       (None, None, None, 512)   2359808   \n",
      "                                                                 \n",
      " block5_conv3 (Conv2D)       (None, None, None, 512)   2359808   \n",
      "                                                                 \n",
      " block5_pool (MaxPooling2D)  (None, None, None, 512)   0         \n",
      "                                                                 \n",
      " global_average_pooling2d (  (None, 512)               0         \n",
      " GlobalAveragePooling2D)                                         \n",
      "                                                                 \n",
      " dense (Dense)               (None, 1024)              525312    \n",
      "                                                                 \n",
      " dense_1 (Dense)             (None, 6)                 6150      \n",
      "                                                                 \n",
      "=================================================================\n",
      "Total params: 15246150 (58.16 MB)\n",
      "Trainable params: 531462 (2.03 MB)\n",
      "Non-trainable params: 14714688 (56.13 MB)\n",
      "_________________________________________________________________\n"
     ]
    }
   ],
   "source": [
    "def build_model(num_classes):\n",
    "    # Loading pre-trained ResNet model\n",
    "    base_model = tf.keras.applications.VGG16(weights='imagenet', include_top=False)\n",
    "\n",
    "    x = base_model.output\n",
    "    x = tf.keras.layers.GlobalAveragePooling2D()(x)\n",
    "    x = tf.keras.layers.Dense(1024, activation='relu')(x)\n",
    "    predictions = tf.keras.layers.Dense(num_classes, activation='softmax')(x)\n",
    "\n",
    "    model = tf.keras.Model(inputs=base_model.input, outputs=predictions)\n",
    "\n",
    "    base_model.trainable = False\n",
    "        \n",
    "    return model\n",
    "\n",
    "model = build_model(num_classes=6)\n",
    "\n",
    "model.compile(optimizer='Adam',\n",
    "              loss='categorical_crossentropy',\n",
    "              metrics=[tf.keras.metrics.categorical_accuracy])\n",
    "\n",
    "model.summary()"
   ]
  },
  {
   "cell_type": "code",
   "execution_count": null,
   "id": "099acad5-2c77-4a9a-9dbf-087d680e0809",
   "metadata": {},
   "outputs": [],
   "source": [
    "# Model training\n",
    "\n",
    "history = model.fit(\n",
    "    gen_train,\n",
    "    validation_data=gen_valid,\n",
    "    epochs=1\n",
    ")"
   ]
  },
  {
   "cell_type": "code",
   "execution_count": null,
   "id": "37ef496c-dc07-47a2-98f9-f2f09503cca1",
   "metadata": {},
   "outputs": [],
   "source": [
    "import matplotlib.pyplot as plt\n",
    "\n",
    "plt.plot(history.history['loss'], label='loss')\n",
    "plt.plot(history.history['val_loss'], label='val_loss')\n",
    "plt.legend()\n",
    "plt.show()"
   ]
  },
  {
   "cell_type": "code",
   "execution_count": 9,
   "id": "941864de-30d3-475d-ac52-9d2777421865",
   "metadata": {},
   "outputs": [
    {
     "data": {
      "image/png": "[encoded data removed]",
      "text/plain": [
       "<Figure size 640x480 with 1 Axes>"
      ]
     },
     "metadata": {},
     "output_type": "display_data"
    }
   ],
   "source": [
    "plt.plot(history.history['categorical_accuracy'], label='acc')\n",
    "plt.plot(history.history['val_categorical_accuracy'], label='val_acc')\n",
    "plt.legend()\n",
    "plt.show()"
   ]
  },
  {
   "cell_type": "code",
   "execution_count": 10,
   "id": "b4682190-3a41-49ba-be34-b5de4a027101",
   "metadata": {},
   "outputs": [
    {
     "name": "stderr",
     "output_type": "stream",
     "text": [
      "/tmp/ipykernel_14565/1351272730.py:4: UserWarning: `Model.evaluate_generator` is deprecated and will be removed in a future version. Please use `Model.evaluate`, which supports generators.\n",
      "  model.evaluate_generator(test_gen, nb_samples)\n"
     ]
    },
    {
     "name": "stdout",
     "output_type": "stream",
     "text": [
      "WARNING:tensorflow:Your input ran out of data; interrupting training. Make sure that your dataset or generator can generate at least `steps_per_epoch * epochs` batches (in this case, 328 batches). You may need to use the repeat() function when building your dataset.\n"
     ]
    },
    {
     "data": {
      "text/plain": [
       "[0.602411687374115, 0.7896341681480408]"
      ]
     },
     "execution_count": 10,
     "metadata": {},
     "output_type": "execute_result"
    }
   ],
   "source": [
    "\n",
    "filenames = test_gen.filenames\n",
    "nb_samples = len(filenames)\n",
    "\n",
    "model.evaluate_generator(test_gen, nb_samples)"
   ]
  },
  {
   "cell_type": "code",
   "execution_count": 11,
   "id": "d9a02c48-6b80-4bdb-bf49-a08e360fc605",
   "metadata": {},
   "outputs": [
    {
     "name": "stdout",
     "output_type": "stream",
     "text": [
      "1/1 [==============================] - 2s 2s/step\n"
     ]
    }
   ],
   "source": [
    "test_x, test_y = test_gen.__getitem__(1)\n",
    "preds = model.predict(test_x)"
   ]
  },
  {
   "cell_type": "code",
   "execution_count": 3,
   "id": "72b9a185-1dc7-45bd-b727-ef58333a55f9",
   "metadata": {},
   "outputs": [
    {
     "ename": "NameError",
     "evalue": "name 'gen_train' is not defined",
     "output_type": "error",
     "traceback": [
      "\u001b[0;31m---------------------------------------------------------------------------\u001b[0m",
      "\u001b[0;31mNameError\u001b[0m                                 Traceback (most recent call last)",
      "Cell \u001b[0;32mIn[3], line 3\u001b[0m\n\u001b[1;32m      1\u001b[0m \u001b[38;5;66;03m# Comparing predcitons with original labels\u001b[39;00m\n\u001b[0;32m----> 3\u001b[0m labels \u001b[38;5;241m=\u001b[39m (\u001b[43mgen_train\u001b[49m\u001b[38;5;241m.\u001b[39mclass_indices)\n\u001b[1;32m      4\u001b[0m labels \u001b[38;5;241m=\u001b[39m \u001b[38;5;28mdict\u001b[39m((v,k) \u001b[38;5;28;01mfor\u001b[39;00m k,v \u001b[38;5;129;01min\u001b[39;00m labels\u001b[38;5;241m.\u001b[39mitems())\n\u001b[1;32m      5\u001b[0m plt\u001b[38;5;241m.\u001b[39mfigure(figsize\u001b[38;5;241m=\u001b[39m(\u001b[38;5;241m16\u001b[39m, \u001b[38;5;241m16\u001b[39m))\n",
      "\u001b[0;31mNameError\u001b[0m: name 'gen_train' is not defined"
     ]
    }
   ],
   "source": [
    "# Comparing predcitons with original labels\n",
    "\n",
    "labels = (gen_train.class_indices)\n",
    "labels = dict((v,k) for k,v in labels.items())\n",
    "plt.figure(figsize=(16, 16))\n",
    "for i in range(16):\n",
    "    plt.subplot(4, 4, i+1)\n",
    "    plt.xticks([])\n",
    "    plt.yticks([])\n",
    "    plt.grid(False)\n",
    "    plt.title('pred:%s / truth:%s' % (labels[np.argmax(preds[i])], labels[np.argmax(test_y[i])]))\n",
    "    plt.imshow(test_x[i])"
   ]
  },
  {
   "cell_type": "code",
   "execution_count": null,
   "id": "0ce80d24-5f92-43bf-b26d-42fe5b654e37",
   "metadata": {},
   "outputs": [],
   "source": [
    "import requests\n",
    "from PIL import Image\n",
    "import numpy as np\n",
    "import matplotlib.pyplot as plt\n",
    "\n",
    "# Function to load and preprocess the image from URL\n",
    "def load_and_preprocess_image_from_url(url, target_size=(224, 224)):\n",
    "    response = requests.get(url)\n",
    "    img = Image.open(BytesIO(response.content))\n",
    "    img = img.resize(target_size)\n",
    "    img_array = np.expand_dims(np.array(img) / 255.0, axis=0)  # Normalize pixel values\n",
    "    return img_array\n",
    "\n",
    "# Function to make predictions\n",
    "def predict_image(model, img_array, gen_train):\n",
    "    prediction = model.predict(img_array)\n",
    "    predicted_class = np.argmax(prediction)\n",
    "    labels = gen_train.class_indices\n",
    "    labels = {v: k for k, v in labels.items()}\n",
    "    return labels[predicted_class], prediction\n",
    "\n",
    "# Function to display the prediction\n",
    "def display_prediction_from_url(url, model, gen_train):\n",
    "    img_array = load_and_preprocess_image_from_url(url)\n",
    "    predicted_class, prediction = predict_image(model, img_array, gen_train)\n",
    "\n",
    "    plt.figure(figsize=(6, 6))\n",
    "    plt.imshow(np.squeeze(img_array))\n",
    "    plt.title('Predicted: {} \\nConfidence: {:.2f}%'.format(predicted_class, np.max(prediction)*100))\n",
    "    plt.axis('off')\n",
    "    plt.show()\n",
    "\n",
    "# Example usage\n",
    "url = input(\"Enter the URL of the image: \")  # Input the URL of the image\n",
    "display_prediction_from_url(url, model, gen_train)\n"
   ]
  },
  {
   "cell_type": "code",
   "execution_count": null,
   "id": "d5ba52ad-ebb1-437e-b812-a43a289f9377",
   "metadata": {},
   "outputs": [],
   "source": []
  }
 ],
 "metadata": {
  "kernelspec": {
   "display_name": "Python 3 (ipykernel)",
   "language": "python",
   "name": "python3"
  },
  "language_info": {
   "codemirror_mode": {
    "name": "ipython",
    "version": 3
   },
   "file_extension": ".py",
   "mimetype": "text/x-python",
   "name": "python",
   "nbconvert_exporter": "python",
   "pygments_lexer": "ipython3",
   "version": "3.10.12"
  }
 },
 "nbformat": 4,
 "nbformat_minor": 5
}
